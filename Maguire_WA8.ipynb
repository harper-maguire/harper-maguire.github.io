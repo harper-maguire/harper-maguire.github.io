{
 "cells": [
  {
   "cell_type": "code",
   "execution_count": 9,
   "id": "cathedral-alias",
   "metadata": {},
   "outputs": [],
   "source": [
    "import csv # allowing Python to access CSV \n",
    "def make_data_point (line, header): # creating a new function\n",
    "    output = {}\n",
    "    for index, header_item in enumerate(header): # enumerate provides a counter while looping through the CSV \n",
    "        output[header_item] = line[index]\n",
    "    return output \n",
    "with open (\"denver-1.nov.csv\") as inf: # opening the CSV \n",
    "    reader = csv.reader(inf) # reading through the CSV \n",
    "    header = next(reader) # removing the header \n",
    "    all_data = [] # creating a new list \n",
    "    for line in reader:  # iterating through each line in the CSV file \n",
    "        all_data.append(make_data_point(line, header)) #adding the line and header to the new list "
   ]
  },
  {
   "cell_type": "code",
   "execution_count": 5,
   "id": "selective-diploma",
   "metadata": {},
   "outputs": [],
   "source": [
    "arrest_made, arrest_not_made = 0,0 # setting the values to zero so we can add on \n",
    "for item in all_data: # iterating through the list \n",
    "    if item[\"arrest_made\"] == 'FALSE': # if the variable = FALSE \n",
    "        arrest_made += 1 # add it to the counter \n",
    "    else: # otherwise, an arrest was not made so add it to the corresponding counter\n",
    "        arrest_not_made += 1"
   ]
  },
  {
   "cell_type": "code",
   "execution_count": 6,
   "id": "activated-illinois",
   "metadata": {},
   "outputs": [],
   "source": [
    "import json \n",
    "with open(\"some_other_data.json\", \"w\") as outfile: # writing in the file \n",
    "    outfile.write(json.dumps({\"x\": arrest_made, \"y\": arrest_not_made}))"
   ]
  },
  {
   "cell_type": "code",
   "execution_count": 7,
   "id": "square-incidence",
   "metadata": {},
   "outputs": [
    {
     "data": {
      "text/plain": [
       "(5380, 985)"
      ]
     },
     "execution_count": 7,
     "metadata": {},
     "output_type": "execute_result"
    }
   ],
   "source": [
    "arrest_made, arrest_not_made"
   ]
  },
  {
   "cell_type": "code",
   "execution_count": null,
   "id": "empty-replacement",
   "metadata": {},
   "outputs": [],
   "source": []
  }
 ],
 "metadata": {
  "kernelspec": {
   "display_name": "Python 3",
   "language": "python",
   "name": "python3"
  },
  "language_info": {
   "codemirror_mode": {
    "name": "ipython",
    "version": 3
   },
   "file_extension": ".py",
   "mimetype": "text/x-python",
   "name": "python",
   "nbconvert_exporter": "python",
   "pygments_lexer": "ipython3",
   "version": "3.7.9"
  }
 },
 "nbformat": 4,
 "nbformat_minor": 5
}
